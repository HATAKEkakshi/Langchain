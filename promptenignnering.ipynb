{
 "cells": [
  {
   "cell_type": "code",
   "execution_count": null,
   "metadata": {},
   "outputs": [],
   "source": [
    "import os\n",
    "from constants import openai_key\n",
    "from langchain_openai import OpenAI\n",
    "os.environ[\"OPENAI_API_KEY\"]=openai_key"
   ]
  },
  {
   "cell_type": "code",
   "execution_count": null,
   "metadata": {},
   "outputs": [],
   "source": [
    "from langchain_core.prompts import PromptTemplate\n",
    "\n",
    "demo_template=\"I want you act as a financial advisor for people. In a easy way,explain the basics of {financial_concept}\"\n",
    "prompt=PromptTemplate(\n",
    "    input_variables=['financial_concept'],\n",
    "    template=demo_template\n",
    "    )\n",
    "prompt.format(financial_concept='income tax')"
   ]
  },
  {
   "cell_type": "code",
   "execution_count": null,
   "metadata": {},
   "outputs": [],
   "source": [
    "from langchain_openai import OpenAI\n",
    "from langchain.chains import LLMChain\n",
    "\n",
    "llm=OpenAI(temperature=0.7)\n",
    "chain1=LLMChain(llm=llm,prompt=prompt)\n"
   ]
  },
  {
   "cell_type": "code",
   "execution_count": null,
   "metadata": {},
   "outputs": [],
   "source": [
    "chain1.run('GDP')"
   ]
  },
  {
   "cell_type": "code",
   "execution_count": null,
   "metadata": {},
   "outputs": [],
   "source": [
    "##Language translation\n",
    "from langchain_core.prompts import PromptTemplate\n",
    "\n",
    "lang_template=\"In a easy way translate the following sentence '{sentence}' into {target_language}\"\n",
    "lang_prompt=PromptTemplate(\n",
    "    input_variables=['sentence','target_language'],\n",
    "    template=lang_template\n",
    "    )\n",
    "lang_prompt.format(sentence='I am hemant',target_language='Hindi')"
   ]
  },
  {
   "cell_type": "code",
   "execution_count": null,
   "metadata": {},
   "outputs": [],
   "source": [
    "chain2=LLMChain(llm=llm,prompt=lang_prompt)\n",
    "\n",
    "chain2({'sentence':\"I AM THE God\",\"target_language\":'Hindi'})"
   ]
  },
  {
   "cell_type": "code",
   "execution_count": null,
   "metadata": {},
   "outputs": [],
   "source": [
    "##Language translation\n",
    "from langchain_core.prompts import PromptTemplate,FewShotPromptTemplate\n",
    "from langchain_core.prompts.few_shot import FewShotPromptTemplate\n",
    "#first create the list of few shot list of exa,ples\n",
    "examples=[\n",
    "    {\"Word\":\"happy\",\"antonym\":'sad'},\n",
    "    {\"Word\":\"tall\",\"antonym\":\"short\"},\n",
    "]\n",
    "\n",
    "example_formatter_template= \"\"\"Word :{Word}\n",
    "Antonym :{antonym}\n",
    "\"\"\" \n",
    "\n",
    "example_prompt=PromptTemplate(\n",
    "    input_variables=[\"Word\",\"antonym\"],\n",
    "    template=example_formatter_template,\n",
    ")\n"
   ]
  },
  {
   "cell_type": "code",
   "execution_count": 28,
   "metadata": {},
   "outputs": [
    {
     "data": {
      "text/plain": [
       "{'input': 'big', 'text': ' small'}"
      ]
     },
     "execution_count": 28,
     "metadata": {},
     "output_type": "execute_result"
    }
   ],
   "source": [
    "from langchain_core.prompts.few_shot import FewShotPromptTemplate\n",
    "few_shot_prompt = FewShotPromptTemplate(\n",
    "    examples=examples,\n",
    "    example_prompt=example_prompt,\n",
    "    prefix=\"Give the antonym of every input \\n\",\n",
    "    suffix=\"Word: {input} \\nAntonym : \",\n",
    "    input_variables=[\"input\"],\n",
    ")\n",
    "\n",
    "chain3=LLMChain(llm=llm,prompt=few_shot_prompt)\n",
    "chain3({'input':'big'})\n",
    "\n"
   ]
  }
 ],
 "metadata": {
  "kernelspec": {
   "display_name": "Python 3",
   "language": "python",
   "name": "python3"
  },
  "language_info": {
   "codemirror_mode": {
    "name": "ipython",
    "version": 3
   },
   "file_extension": ".py",
   "mimetype": "text/x-python",
   "name": "python",
   "nbconvert_exporter": "python",
   "pygments_lexer": "ipython3",
   "version": "3.1.undefined"
  }
 },
 "nbformat": 4,
 "nbformat_minor": 2
}
